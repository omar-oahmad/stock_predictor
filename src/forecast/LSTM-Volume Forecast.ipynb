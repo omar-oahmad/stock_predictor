{
 "cells": [
  {
   "cell_type": "markdown",
   "id": "8cc14df3",
   "metadata": {},
   "source": [
    "# IMPORTING LIBRARIES"
   ]
  },
  {
   "cell_type": "code",
   "execution_count": 1,
   "id": "437bb4de",
   "metadata": {},
   "outputs": [],
   "source": [
    "import numpy as np\n",
    "import pandas as pd\n",
    "import seaborn as sns\n",
    "import matplotlib.pyplot as plt"
   ]
  },
  {
   "cell_type": "code",
   "execution_count": 2,
   "id": "b1cd9851",
   "metadata": {},
   "outputs": [],
   "source": [
    "%matplotlib inline"
   ]
  },
  {
   "cell_type": "markdown",
   "id": "7cc8d478",
   "metadata": {},
   "source": [
    "# IMPORTING DATASET "
   ]
  },
  {
   "cell_type": "code",
   "execution_count": 3,
   "id": "c1e93cc0",
   "metadata": {},
   "outputs": [],
   "source": [
    "stock = pd.read_csv(\"meb.csv\")"
   ]
  },
  {
   "cell_type": "code",
   "execution_count": 4,
   "id": "f683ff62",
   "metadata": {},
   "outputs": [
    {
     "data": {
      "text/html": [
       "<div>\n",
       "<style scoped>\n",
       "    .dataframe tbody tr th:only-of-type {\n",
       "        vertical-align: middle;\n",
       "    }\n",
       "\n",
       "    .dataframe tbody tr th {\n",
       "        vertical-align: top;\n",
       "    }\n",
       "\n",
       "    .dataframe thead th {\n",
       "        text-align: right;\n",
       "    }\n",
       "</style>\n",
       "<table border=\"1\" class=\"dataframe\">\n",
       "  <thead>\n",
       "    <tr style=\"text-align: right;\">\n",
       "      <th></th>\n",
       "      <th>Date</th>\n",
       "      <th>Open</th>\n",
       "      <th>High</th>\n",
       "      <th>Low</th>\n",
       "      <th>Close</th>\n",
       "      <th>Volume</th>\n",
       "    </tr>\n",
       "  </thead>\n",
       "  <tbody>\n",
       "    <tr>\n",
       "      <th>0</th>\n",
       "      <td>2018-01-01</td>\n",
       "      <td>67.0</td>\n",
       "      <td>67.69</td>\n",
       "      <td>67.0</td>\n",
       "      <td>67.20</td>\n",
       "      <td>1051500</td>\n",
       "    </tr>\n",
       "    <tr>\n",
       "      <th>1</th>\n",
       "      <td>2018-01-02</td>\n",
       "      <td>67.0</td>\n",
       "      <td>70.56</td>\n",
       "      <td>67.0</td>\n",
       "      <td>70.56</td>\n",
       "      <td>51500</td>\n",
       "    </tr>\n",
       "  </tbody>\n",
       "</table>\n",
       "</div>"
      ],
      "text/plain": [
       "         Date  Open   High   Low  Close   Volume\n",
       "0  2018-01-01  67.0  67.69  67.0  67.20  1051500\n",
       "1  2018-01-02  67.0  70.56  67.0  70.56    51500"
      ]
     },
     "execution_count": 4,
     "metadata": {},
     "output_type": "execute_result"
    }
   ],
   "source": [
    "stock.head(2)"
   ]
  },
  {
   "cell_type": "markdown",
   "id": "880d32b6",
   "metadata": {},
   "source": [
    "## extracting out dates for later use[visualization and forecast purpose]"
   ]
  },
  {
   "cell_type": "code",
   "execution_count": 5,
   "id": "4c254683",
   "metadata": {},
   "outputs": [],
   "source": [
    "import datetime as dt"
   ]
  },
  {
   "cell_type": "code",
   "execution_count": 6,
   "id": "58dd28ea",
   "metadata": {},
   "outputs": [],
   "source": [
    "dates = list(stock['Date'])\n",
    "dates = [dt.datetime.strptime(date, '%Y-%m-%d').date() for date in dates]"
   ]
  },
  {
   "cell_type": "code",
   "execution_count": 7,
   "id": "2641f0f7",
   "metadata": {},
   "outputs": [
    {
     "name": "stdout",
     "output_type": "stream",
     "text": [
      "Starting date of record :  2018-01-01\n",
      "Last date of record :  2022-05-18\n",
      "Total days n(records) =  1071\n"
     ]
    }
   ],
   "source": [
    "print(\"Starting date of record : \" , dates[0])\n",
    "print(\"Last date of record : \" , dates[-1])\n",
    "print(\"Total days n(records) = \",len(dates))"
   ]
  },
  {
   "cell_type": "markdown",
   "id": "0ed74872",
   "metadata": {},
   "source": [
    "## creating dataset of chosen features to work ahead with LSTM-model"
   ]
  },
  {
   "cell_type": "code",
   "execution_count": 8,
   "id": "d182488b",
   "metadata": {},
   "outputs": [],
   "source": [
    "features = list(stock)[1:]"
   ]
  },
  {
   "cell_type": "code",
   "execution_count": 9,
   "id": "973997bf",
   "metadata": {},
   "outputs": [],
   "source": [
    "data = stock[features]"
   ]
  },
  {
   "cell_type": "code",
   "execution_count": 10,
   "id": "9aecff5e",
   "metadata": {},
   "outputs": [
    {
     "data": {
      "text/html": [
       "<div>\n",
       "<style scoped>\n",
       "    .dataframe tbody tr th:only-of-type {\n",
       "        vertical-align: middle;\n",
       "    }\n",
       "\n",
       "    .dataframe tbody tr th {\n",
       "        vertical-align: top;\n",
       "    }\n",
       "\n",
       "    .dataframe thead th {\n",
       "        text-align: right;\n",
       "    }\n",
       "</style>\n",
       "<table border=\"1\" class=\"dataframe\">\n",
       "  <thead>\n",
       "    <tr style=\"text-align: right;\">\n",
       "      <th></th>\n",
       "      <th>Open</th>\n",
       "      <th>High</th>\n",
       "      <th>Low</th>\n",
       "      <th>Close</th>\n",
       "      <th>Volume</th>\n",
       "    </tr>\n",
       "  </thead>\n",
       "  <tbody>\n",
       "    <tr>\n",
       "      <th>0</th>\n",
       "      <td>67.0</td>\n",
       "      <td>67.69</td>\n",
       "      <td>67.0</td>\n",
       "      <td>67.20</td>\n",
       "      <td>1051500</td>\n",
       "    </tr>\n",
       "    <tr>\n",
       "      <th>1</th>\n",
       "      <td>67.0</td>\n",
       "      <td>70.56</td>\n",
       "      <td>67.0</td>\n",
       "      <td>70.56</td>\n",
       "      <td>51500</td>\n",
       "    </tr>\n",
       "  </tbody>\n",
       "</table>\n",
       "</div>"
      ],
      "text/plain": [
       "   Open   High   Low  Close   Volume\n",
       "0  67.0  67.69  67.0  67.20  1051500\n",
       "1  67.0  70.56  67.0  70.56    51500"
      ]
     },
     "execution_count": 10,
     "metadata": {},
     "output_type": "execute_result"
    }
   ],
   "source": [
    "data.head(2)"
   ]
  },
  {
   "cell_type": "code",
   "execution_count": 11,
   "id": "1764be8e",
   "metadata": {},
   "outputs": [
    {
     "name": "stdout",
     "output_type": "stream",
     "text": [
      "The features selected to train the model are :  ['Open' 'High' 'Low' 'Close' 'Volume']\n"
     ]
    }
   ],
   "source": [
    "print(\"The features selected to train the model are : \", data.columns.values)"
   ]
  },
  {
   "cell_type": "markdown",
   "id": "aaddd4cb",
   "metadata": {},
   "source": [
    "# DATA PRE-PROCESSING "
   ]
  },
  {
   "cell_type": "code",
   "execution_count": 12,
   "id": "a899c16a",
   "metadata": {},
   "outputs": [],
   "source": [
    "data = data.astype(float)"
   ]
  },
  {
   "cell_type": "code",
   "execution_count": 13,
   "id": "03b15aad",
   "metadata": {},
   "outputs": [
    {
     "data": {
      "text/html": [
       "<div>\n",
       "<style scoped>\n",
       "    .dataframe tbody tr th:only-of-type {\n",
       "        vertical-align: middle;\n",
       "    }\n",
       "\n",
       "    .dataframe tbody tr th {\n",
       "        vertical-align: top;\n",
       "    }\n",
       "\n",
       "    .dataframe thead th {\n",
       "        text-align: right;\n",
       "    }\n",
       "</style>\n",
       "<table border=\"1\" class=\"dataframe\">\n",
       "  <thead>\n",
       "    <tr style=\"text-align: right;\">\n",
       "      <th></th>\n",
       "      <th>Open</th>\n",
       "      <th>High</th>\n",
       "      <th>Low</th>\n",
       "      <th>Close</th>\n",
       "      <th>Volume</th>\n",
       "    </tr>\n",
       "  </thead>\n",
       "  <tbody>\n",
       "    <tr>\n",
       "      <th>0</th>\n",
       "      <td>67.0</td>\n",
       "      <td>67.69</td>\n",
       "      <td>67.0</td>\n",
       "      <td>67.20</td>\n",
       "      <td>1051500.0</td>\n",
       "    </tr>\n",
       "    <tr>\n",
       "      <th>1</th>\n",
       "      <td>67.0</td>\n",
       "      <td>70.56</td>\n",
       "      <td>67.0</td>\n",
       "      <td>70.56</td>\n",
       "      <td>51500.0</td>\n",
       "    </tr>\n",
       "  </tbody>\n",
       "</table>\n",
       "</div>"
      ],
      "text/plain": [
       "   Open   High   Low  Close     Volume\n",
       "0  67.0  67.69  67.0  67.20  1051500.0\n",
       "1  67.0  70.56  67.0  70.56    51500.0"
      ]
     },
     "execution_count": 13,
     "metadata": {},
     "output_type": "execute_result"
    }
   ],
   "source": [
    "data.head(2)"
   ]
  },
  {
   "cell_type": "code",
   "execution_count": 14,
   "id": "00009c25",
   "metadata": {},
   "outputs": [],
   "source": [
    "dataset = data.values"
   ]
  },
  {
   "cell_type": "code",
   "execution_count": 15,
   "id": "a4272072",
   "metadata": {},
   "outputs": [
    {
     "data": {
      "text/plain": [
       "(1071, 5)"
      ]
     },
     "execution_count": 15,
     "metadata": {},
     "output_type": "execute_result"
    }
   ],
   "source": [
    "dataset.shape"
   ]
  },
  {
   "cell_type": "code",
   "execution_count": 16,
   "id": "694cb858",
   "metadata": {},
   "outputs": [
    {
     "data": {
      "text/plain": [
       "array([6.7000e+01, 6.7690e+01, 6.7000e+01, 6.7200e+01, 1.0515e+06])"
      ]
     },
     "execution_count": 16,
     "metadata": {},
     "output_type": "execute_result"
    }
   ],
   "source": [
    "dataset[0]"
   ]
  },
  {
   "cell_type": "code",
   "execution_count": 17,
   "id": "0a6710c3",
   "metadata": {},
   "outputs": [
    {
     "data": {
      "text/plain": [
       "array([[1051500.],\n",
       "       [  51500.],\n",
       "       [  23000.],\n",
       "       ...,\n",
       "       [ 515648.],\n",
       "       [ 291169.],\n",
       "       [ 383890.]])"
      ]
     },
     "execution_count": 17,
     "metadata": {},
     "output_type": "execute_result"
    }
   ],
   "source": [
    "dataset[:,-1:]"
   ]
  },
  {
   "cell_type": "markdown",
   "id": "fe60d5c2",
   "metadata": {},
   "source": [
    "# FEATURE SCALING"
   ]
  },
  {
   "cell_type": "code",
   "execution_count": 18,
   "id": "339fb55a",
   "metadata": {},
   "outputs": [
    {
     "data": {
      "text/plain": [
       "array([[ 0.26235078],\n",
       "       [-0.70274236],\n",
       "       [-0.73024752],\n",
       "       ...,\n",
       "       [-0.25479631],\n",
       "       [-0.47143945],\n",
       "       [-0.38195505]])"
      ]
     },
     "execution_count": 18,
     "metadata": {},
     "output_type": "execute_result"
    }
   ],
   "source": [
    "from sklearn.preprocessing import StandardScaler\n",
    "\n",
    "sc = StandardScaler()\n",
    "sc_dataset = sc.fit_transform(dataset)\n",
    "\n",
    "pred_sc = StandardScaler()\n",
    "pred_sc.fit_transform(dataset[:, -1: ]) #for output values"
   ]
  },
  {
   "cell_type": "markdown",
   "id": "7ef51e11",
   "metadata": {},
   "source": [
    "# INPUT-OUTPUT SPLIT FOR TIME SERIES ANALYSIS "
   ]
  },
  {
   "cell_type": "code",
   "execution_count": 19,
   "id": "a4a8b5ed",
   "metadata": {},
   "outputs": [],
   "source": [
    "Xtrain = [] #trend to be analyzed\n",
    "ytrain = [] #output for the given-trend"
   ]
  },
  {
   "cell_type": "code",
   "execution_count": 20,
   "id": "03f84b02",
   "metadata": {},
   "outputs": [],
   "source": [
    "nFuture = 1 #60 #7 #30   # Number of days we want top predict into the future\n",
    "nPast = 30 #90 #30 #100     # Number of past days we want to use to predict the future "
   ]
  },
  {
   "cell_type": "code",
   "execution_count": 21,
   "id": "dd02c244",
   "metadata": {},
   "outputs": [],
   "source": [
    "rows = data.shape[0]\n",
    "cols = data.shape[1]"
   ]
  },
  {
   "cell_type": "code",
   "execution_count": 22,
   "id": "5be3b3db",
   "metadata": {},
   "outputs": [
    {
     "data": {
      "text/plain": [
       "(1071, 5)"
      ]
     },
     "execution_count": 22,
     "metadata": {},
     "output_type": "execute_result"
    }
   ],
   "source": [
    "rows, cols"
   ]
  },
  {
   "cell_type": "code",
   "execution_count": 23,
   "id": "14a8061e",
   "metadata": {},
   "outputs": [],
   "source": [
    "rows = dataset.shape[0]\n",
    "cols = dataset.shape[1]\n",
    "for i in range(nPast ,  rows - nFuture +1):\n",
    "    Xtrain.append(sc_dataset[i - nPast : i , 0:cols])\n",
    "    ytrain.append(sc_dataset[i + nFuture - 1 : i + nFuture , -1])"
   ]
  },
  {
   "cell_type": "code",
   "execution_count": 24,
   "id": "38b131dc",
   "metadata": {},
   "outputs": [],
   "source": [
    "Xtrain = np.array(Xtrain)\n",
    "ytrain = np.array(ytrain)"
   ]
  },
  {
   "cell_type": "code",
   "execution_count": 25,
   "id": "9e413cc0",
   "metadata": {},
   "outputs": [
    {
     "data": {
      "text/plain": [
       "array([[6.7000e+01, 6.7690e+01, 6.7000e+01, 6.7200e+01, 1.0515e+06]])"
      ]
     },
     "execution_count": 25,
     "metadata": {},
     "output_type": "execute_result"
    }
   ],
   "source": [
    "sc.inverse_transform([Xtrain[0][0]])"
   ]
  },
  {
   "cell_type": "code",
   "execution_count": 26,
   "id": "3d3d1ae0",
   "metadata": {},
   "outputs": [
    {
     "data": {
      "text/plain": [
       "array([[53000.]])"
      ]
     },
     "execution_count": 26,
     "metadata": {},
     "output_type": "execute_result"
    }
   ],
   "source": [
    "pred_sc.inverse_transform([ytrain[0]])"
   ]
  },
  {
   "cell_type": "code",
   "execution_count": 27,
   "id": "613f1890",
   "metadata": {},
   "outputs": [
    {
     "data": {
      "text/plain": [
       "array([-1.00262077, -0.99014544, -0.95805047, -0.96057   , -0.70129472])"
      ]
     },
     "execution_count": 27,
     "metadata": {},
     "output_type": "execute_result"
    }
   ],
   "source": [
    "Xtrain[nFuture + nPast - 1][0]"
   ]
  },
  {
   "cell_type": "code",
   "execution_count": 28,
   "id": "0fb0cf2f",
   "metadata": {},
   "outputs": [
    {
     "data": {
      "text/plain": [
       "array([-0.70129472])"
      ]
     },
     "execution_count": 28,
     "metadata": {},
     "output_type": "execute_result"
    }
   ],
   "source": [
    "ytrain[0]"
   ]
  },
  {
   "cell_type": "markdown",
   "id": "d0315b16",
   "metadata": {},
   "source": [
    "Now the Xtrain contains all of the given dataset , where as ytrain contains value of volumes to be predicted at gievn past and future figures"
   ]
  },
  {
   "cell_type": "code",
   "execution_count": 29,
   "id": "29dda5bb",
   "metadata": {},
   "outputs": [
    {
     "data": {
      "text/plain": [
       "53000.0"
      ]
     },
     "execution_count": 29,
     "metadata": {},
     "output_type": "execute_result"
    }
   ],
   "source": [
    "sc.inverse_transform([Xtrain[nFuture + nPast - 1][0]])[0][-1]"
   ]
  },
  {
   "cell_type": "code",
   "execution_count": 30,
   "id": "b98a18ae",
   "metadata": {},
   "outputs": [
    {
     "data": {
      "text/plain": [
       "53000.0"
      ]
     },
     "execution_count": 30,
     "metadata": {},
     "output_type": "execute_result"
    }
   ],
   "source": [
    "pred_sc.inverse_transform([ytrain[0]])[0][0]"
   ]
  },
  {
   "cell_type": "markdown",
   "id": "ce1a032e",
   "metadata": {},
   "source": [
    "# MODEL TRAINING "
   ]
  },
  {
   "cell_type": "markdown",
   "id": "60abcb47",
   "metadata": {},
   "source": [
    "## IMPORTING LIBRARIES"
   ]
  },
  {
   "cell_type": "code",
   "execution_count": 31,
   "id": "e09ac19c",
   "metadata": {},
   "outputs": [
    {
     "name": "stderr",
     "output_type": "stream",
     "text": [
      "2022-05-27 00:57:53.702055: W tensorflow/stream_executor/platform/default/dso_loader.cc:64] Could not load dynamic library 'libcudart.so.11.0'; dlerror: libcudart.so.11.0: cannot open shared object file: No such file or directory\n",
      "2022-05-27 00:57:53.702089: I tensorflow/stream_executor/cuda/cudart_stub.cc:29] Ignore above cudart dlerror if you do not have a GPU set up on your machine.\n",
      "/usr/lib/python3/dist-packages/requests/__init__.py:89: RequestsDependencyWarning: urllib3 (1.26.9) or chardet (3.0.4) doesn't match a supported version!\n",
      "  warnings.warn(\"urllib3 ({}) or chardet ({}) doesn't match a supported \"\n"
     ]
    }
   ],
   "source": [
    "from keras.models import Sequential\n",
    "from keras.layers import Dense\n",
    "from keras.layers import LSTM\n",
    "from keras.layers import Dropout\n",
    "from tensorflow.keras import optimizers"
   ]
  },
  {
   "cell_type": "markdown",
   "id": "68390b83",
   "metadata": {},
   "source": [
    "## Training Model"
   ]
  },
  {
   "cell_type": "code",
   "execution_count": 32,
   "id": "897ca2ce",
   "metadata": {},
   "outputs": [],
   "source": [
    "from tensorflow import keras"
   ]
  },
  {
   "cell_type": "code",
   "execution_count": 33,
   "id": "9f5d36f5",
   "metadata": {},
   "outputs": [
    {
     "name": "stderr",
     "output_type": "stream",
     "text": [
      "2022-05-27 00:57:59.249260: W tensorflow/stream_executor/platform/default/dso_loader.cc:64] Could not load dynamic library 'libcuda.so.1'; dlerror: libcuda.so.1: cannot open shared object file: No such file or directory\n",
      "2022-05-27 00:57:59.249320: W tensorflow/stream_executor/cuda/cuda_driver.cc:269] failed call to cuInit: UNKNOWN ERROR (303)\n",
      "2022-05-27 00:57:59.249361: I tensorflow/stream_executor/cuda/cuda_diagnostics.cc:156] kernel driver does not appear to be running on this host (huda): /proc/driver/nvidia/version does not exist\n",
      "2022-05-27 00:57:59.249724: I tensorflow/core/platform/cpu_feature_guard.cc:151] This TensorFlow binary is optimized with oneAPI Deep Neural Network Library (oneDNN) to use the following CPU instructions in performance-critical operations:  AVX2 FMA\n",
      "To enable them in other operations, rebuild TensorFlow with the appropriate compiler flags.\n"
     ]
    }
   ],
   "source": [
    "model = Sequential()\n",
    "\n",
    "#LAYERS\n",
    "model.add(LSTM(units=128, return_sequences=True, input_shape=(Xtrain.shape[1] , Xtrain.shape[2]))) #first layer #nPast , cols\n",
    "model.add(LSTM(units=64 , activation = \"linear\", return_sequences=True , kernel_regularizer=keras.regularizers.l2(0.01) )) #second layer\n",
    "model.add(Dropout(0.3))\n",
    "model.add(LSTM(units=32, activation = \"tanh\", return_sequences=True , kernel_regularizer=keras.regularizers.l2(0.01) )) #second layer\n",
    "model.add(Dropout(0.2))\n",
    "model.add(LSTM(units=10,return_sequences=False )) #third layers\n",
    "\n",
    "#DROPOUT\n",
    "model.add(Dropout(0.5))\n",
    "\n",
    "#OUTPUT\n",
    "model.add(Dense(ytrain.shape[1])) #output layer\n",
    "# model.summary()"
   ]
  },
  {
   "cell_type": "markdown",
   "id": "ba0da52f",
   "metadata": {},
   "source": [
    "## Compling NN "
   ]
  },
  {
   "cell_type": "code",
   "execution_count": 34,
   "id": "661f0c4f",
   "metadata": {},
   "outputs": [],
   "source": [
    "from tensorflow.keras import losses"
   ]
  },
  {
   "cell_type": "code",
   "execution_count": 35,
   "id": "e3c5f352",
   "metadata": {},
   "outputs": [],
   "source": [
    "opmz = optimizers.Adam(learning_rate=0.01)\n",
    "loss = losses.mean_squared_error\n",
    "\n",
    "model.compile(optimizer = opmz , loss = loss)"
   ]
  },
  {
   "cell_type": "code",
   "execution_count": 36,
   "id": "c85acb63",
   "metadata": {},
   "outputs": [],
   "source": [
    "#linear , tanh , 0.05 , 25, 128"
   ]
  },
  {
   "cell_type": "markdown",
   "id": "b922afa2",
   "metadata": {},
   "source": [
    "## Fitting dataset to model "
   ]
  },
  {
   "cell_type": "code",
   "execution_count": 37,
   "id": "c1a1e830",
   "metadata": {},
   "outputs": [
    {
     "name": "stdout",
     "output_type": "stream",
     "text": [
      "Epoch 1/25\n",
      "4/4 [==============================] - 8s 668ms/step - loss: 3.2942 - val_loss: 2.2578\n",
      "Epoch 2/25\n",
      "4/4 [==============================] - 1s 195ms/step - loss: 2.0947 - val_loss: 1.6216\n",
      "Epoch 3/25\n",
      "4/4 [==============================] - 1s 194ms/step - loss: 1.5529 - val_loss: 1.4023\n",
      "Epoch 4/25\n",
      "4/4 [==============================] - 1s 196ms/step - loss: 1.3486 - val_loss: 1.2387\n",
      "Epoch 5/25\n",
      "4/4 [==============================] - 1s 191ms/step - loss: 1.2346 - val_loss: 1.2194\n",
      "Epoch 6/25\n",
      "4/4 [==============================] - 1s 194ms/step - loss: 1.1772 - val_loss: 1.1718\n",
      "Epoch 7/25\n",
      "4/4 [==============================] - 1s 194ms/step - loss: 1.1215 - val_loss: 1.0946\n",
      "Epoch 8/25\n",
      "4/4 [==============================] - 1s 194ms/step - loss: 1.0748 - val_loss: 1.0269\n",
      "Epoch 9/25\n",
      "4/4 [==============================] - 1s 196ms/step - loss: 1.0255 - val_loss: 1.0406\n",
      "Epoch 10/25\n",
      "4/4 [==============================] - 1s 191ms/step - loss: 1.0016 - val_loss: 1.0753\n",
      "Epoch 11/25\n",
      "4/4 [==============================] - 1s 198ms/step - loss: 0.9858 - val_loss: 1.0520\n",
      "Epoch 12/25\n",
      "4/4 [==============================] - 1s 199ms/step - loss: 0.9856 - val_loss: 1.0116\n",
      "Epoch 13/25\n",
      "4/4 [==============================] - 1s 230ms/step - loss: 0.9715 - val_loss: 1.0956\n",
      "Epoch 14/25\n",
      "4/4 [==============================] - 1s 211ms/step - loss: 0.9669 - val_loss: 0.9865\n",
      "Epoch 15/25\n",
      "4/4 [==============================] - 1s 200ms/step - loss: 0.9607 - val_loss: 0.9630\n",
      "Epoch 16/25\n",
      "4/4 [==============================] - 1s 192ms/step - loss: 0.9600 - val_loss: 1.0594\n",
      "Epoch 17/25\n",
      "4/4 [==============================] - 1s 193ms/step - loss: 0.9479 - val_loss: 0.9718\n",
      "Epoch 18/25\n",
      "4/4 [==============================] - 1s 193ms/step - loss: 0.9398 - val_loss: 1.0263\n",
      "Epoch 19/25\n",
      "4/4 [==============================] - 1s 193ms/step - loss: 0.9327 - val_loss: 0.9793\n",
      "Epoch 20/25\n",
      "4/4 [==============================] - 1s 195ms/step - loss: 0.9322 - val_loss: 1.0054\n",
      "Epoch 21/25\n",
      "4/4 [==============================] - 1s 197ms/step - loss: 0.9437 - val_loss: 1.0135\n",
      "Epoch 22/25\n",
      "4/4 [==============================] - 1s 197ms/step - loss: 0.9028 - val_loss: 1.0530\n",
      "Epoch 23/25\n",
      "4/4 [==============================] - 1s 194ms/step - loss: 0.9374 - val_loss: 1.0069\n",
      "Epoch 24/25\n",
      "4/4 [==============================] - 1s 197ms/step - loss: 0.9118 - val_loss: 1.2424\n",
      "Epoch 25/25\n",
      "4/4 [==============================] - 1s 195ms/step - loss: 0.9189 - val_loss: 1.0114\n"
     ]
    }
   ],
   "source": [
    "history = model.fit(Xtrain, ytrain, epochs=25, batch_size=256, validation_split=0.1, verbose=1) #100e #32b"
   ]
  },
  {
   "cell_type": "markdown",
   "id": "1d5802b5",
   "metadata": {},
   "source": [
    "# loss plot"
   ]
  },
  {
   "cell_type": "code",
   "execution_count": 38,
   "id": "36dc6c70",
   "metadata": {},
   "outputs": [
    {
     "data": {
      "text/plain": [
       "<matplotlib.legend.Legend at 0x7f1592634b50>"
      ]
     },
     "execution_count": 38,
     "metadata": {},
     "output_type": "execute_result"
    },
    {
     "data": {
      "image/png": "[encoded data removed]",
      "text/plain": [
       "<Figure size 432x288 with 1 Axes>"
      ]
     },
     "metadata": {
      "needs_background": "light"
     },
     "output_type": "display_data"
    }
   ],
   "source": [
    "train_loss = history.history[\"loss\"]\n",
    "validation_loss = history.history[\"val_loss\"]\n",
    "plt.plot(train_loss , label = \"Training Loss\")\n",
    "plt.plot(validation_loss , label = \"Validation Loss\")\n",
    "plt.xlabel(\"Epoch\")\n",
    "plt.ylabel(\"Error\")\n",
    "plt.legend()"
   ]
  },
  {
   "cell_type": "markdown",
   "id": "aa1b7966",
   "metadata": {},
   "source": [
    "# FUTURE FORECAST: "
   ]
  },
  {
   "cell_type": "code",
   "execution_count": 39,
   "id": "73293859",
   "metadata": {},
   "outputs": [],
   "source": [
    "nFut = 30"
   ]
  },
  {
   "cell_type": "code",
   "execution_count": 40,
   "id": "aec427d1",
   "metadata": {},
   "outputs": [],
   "source": [
    "futureDates = pd.date_range(dates[-1], periods=nFut, freq='1d').tolist()"
   ]
  },
  {
   "cell_type": "code",
   "execution_count": 41,
   "id": "accdf3a9",
   "metadata": {},
   "outputs": [],
   "source": [
    "futureDatesList = []\n",
    "for i in futureDates:\n",
    "    futureDatesList.append(i.date())"
   ]
  },
  {
   "cell_type": "code",
   "execution_count": 42,
   "id": "798aaf88",
   "metadata": {},
   "outputs": [
    {
     "data": {
      "text/plain": [
       "datetime.date(2022, 5, 18)"
      ]
     },
     "execution_count": 42,
     "metadata": {},
     "output_type": "execute_result"
    }
   ],
   "source": [
    "futureDatesList[0]"
   ]
  },
  {
   "cell_type": "code",
   "execution_count": 43,
   "id": "9ad51935",
   "metadata": {},
   "outputs": [
    {
     "data": {
      "text/plain": [
       "datetime.date(2022, 6, 16)"
      ]
     },
     "execution_count": 43,
     "metadata": {},
     "output_type": "execute_result"
    }
   ],
   "source": [
    "futureDatesList[-1]"
   ]
  },
  {
   "cell_type": "code",
   "execution_count": 44,
   "id": "12ab236a",
   "metadata": {},
   "outputs": [],
   "source": [
    "futurePreds = model.predict(Xtrain[-nFut:])\n",
    "trainPreds = model.predict(Xtrain[nPast:])"
   ]
  },
  {
   "cell_type": "code",
   "execution_count": 45,
   "id": "1ba2eabe",
   "metadata": {},
   "outputs": [],
   "source": [
    "def to_Timestamp(x):\n",
    "    return dt.datetime.strptime(x.strftime('%Y%m%d'), '%Y%m%d')"
   ]
  },
  {
   "cell_type": "code",
   "execution_count": 46,
   "id": "1d919a2e",
   "metadata": {},
   "outputs": [],
   "source": [
    "y_predFuture = pred_sc.inverse_transform(futurePreds)\n",
    "y_predTrain = pred_sc.inverse_transform(trainPreds)"
   ]
  },
  {
   "cell_type": "code",
   "execution_count": 47,
   "id": "bcf294da",
   "metadata": {},
   "outputs": [],
   "source": [
    "FUT_PREDS = pd.DataFrame(y_predFuture, columns=[\"Volume\"]).set_index(pd.Series(futureDatesList))\n",
    "TRAIN_PREDS = pd.DataFrame(y_predTrain, columns=[\"Volume\"]).set_index(pd.Series(dates[2 * nPast + nFuture - 1:]))"
   ]
  },
  {
   "cell_type": "code",
   "execution_count": 48,
   "id": "cf8a8f23",
   "metadata": {},
   "outputs": [],
   "source": [
    "TRAIN_PREDS.index = TRAIN_PREDS.index.to_series().apply(to_Timestamp)"
   ]
  },
  {
   "cell_type": "code",
   "execution_count": 49,
   "id": "0e2c5005",
   "metadata": {},
   "outputs": [
    {
     "data": {
      "text/html": [
       "<div>\n",
       "<style scoped>\n",
       "    .dataframe tbody tr th:only-of-type {\n",
       "        vertical-align: middle;\n",
       "    }\n",
       "\n",
       "    .dataframe tbody tr th {\n",
       "        vertical-align: top;\n",
       "    }\n",
       "\n",
       "    .dataframe thead th {\n",
       "        text-align: right;\n",
       "    }\n",
       "</style>\n",
       "<table border=\"1\" class=\"dataframe\">\n",
       "  <thead>\n",
       "    <tr style=\"text-align: right;\">\n",
       "      <th></th>\n",
       "      <th>Volume</th>\n",
       "    </tr>\n",
       "  </thead>\n",
       "  <tbody>\n",
       "    <tr>\n",
       "      <th>2018-04-05</th>\n",
       "      <td>392784.6250</td>\n",
       "    </tr>\n",
       "    <tr>\n",
       "      <th>2018-04-06</th>\n",
       "      <td>382619.8125</td>\n",
       "    </tr>\n",
       "  </tbody>\n",
       "</table>\n",
       "</div>"
      ],
      "text/plain": [
       "                 Volume\n",
       "2018-04-05  392784.6250\n",
       "2018-04-06  382619.8125"
      ]
     },
     "execution_count": 49,
     "metadata": {},
     "output_type": "execute_result"
    }
   ],
   "source": [
    "TRAIN_PREDS.head(2)"
   ]
  },
  {
   "cell_type": "code",
   "execution_count": 50,
   "id": "14a5b43d",
   "metadata": {},
   "outputs": [],
   "source": [
    "trainSet = pd.DataFrame(data, columns=features)\n",
    "trainSet.index = dates\n",
    "trainSet.index = pd.to_datetime(trainSet.index)"
   ]
  },
  {
   "cell_type": "code",
   "execution_count": 51,
   "id": "b51f7d0c",
   "metadata": {},
   "outputs": [
    {
     "data": {
      "text/html": [
       "<div>\n",
       "<style scoped>\n",
       "    .dataframe tbody tr th:only-of-type {\n",
       "        vertical-align: middle;\n",
       "    }\n",
       "\n",
       "    .dataframe tbody tr th {\n",
       "        vertical-align: top;\n",
       "    }\n",
       "\n",
       "    .dataframe thead th {\n",
       "        text-align: right;\n",
       "    }\n",
       "</style>\n",
       "<table border=\"1\" class=\"dataframe\">\n",
       "  <thead>\n",
       "    <tr style=\"text-align: right;\">\n",
       "      <th></th>\n",
       "      <th>Open</th>\n",
       "      <th>High</th>\n",
       "      <th>Low</th>\n",
       "      <th>Close</th>\n",
       "      <th>Volume</th>\n",
       "    </tr>\n",
       "  </thead>\n",
       "  <tbody>\n",
       "    <tr>\n",
       "      <th>2018-01-01</th>\n",
       "      <td>67.0</td>\n",
       "      <td>67.69</td>\n",
       "      <td>67.0</td>\n",
       "      <td>67.20</td>\n",
       "      <td>1051500.0</td>\n",
       "    </tr>\n",
       "    <tr>\n",
       "      <th>2018-01-02</th>\n",
       "      <td>67.0</td>\n",
       "      <td>70.56</td>\n",
       "      <td>67.0</td>\n",
       "      <td>70.56</td>\n",
       "      <td>51500.0</td>\n",
       "    </tr>\n",
       "  </tbody>\n",
       "</table>\n",
       "</div>"
      ],
      "text/plain": [
       "            Open   High   Low  Close     Volume\n",
       "2018-01-01  67.0  67.69  67.0  67.20  1051500.0\n",
       "2018-01-02  67.0  70.56  67.0  70.56    51500.0"
      ]
     },
     "execution_count": 51,
     "metadata": {},
     "output_type": "execute_result"
    }
   ],
   "source": [
    "trainSet.head(2)"
   ]
  },
  {
   "cell_type": "code",
   "execution_count": 52,
   "id": "fc05c1df",
   "metadata": {},
   "outputs": [
    {
     "data": {
      "text/plain": [
       "Timestamp('2018-04-05 00:00:00')"
      ]
     },
     "execution_count": 52,
     "metadata": {},
     "output_type": "execute_result"
    }
   ],
   "source": [
    "TRAIN_PREDS.index[0]"
   ]
  },
  {
   "cell_type": "code",
   "execution_count": 53,
   "id": "8bd1ad15",
   "metadata": {},
   "outputs": [],
   "source": [
    "from pylab import rcParams"
   ]
  },
  {
   "cell_type": "code",
   "execution_count": 54,
   "id": "c65678fe",
   "metadata": {},
   "outputs": [
    {
     "data": {
      "image/png": "[encoded data removed]",
      "text/plain": [
       "<Figure size 1008x360 with 1 Axes>"
      ]
     },
     "metadata": {
      "needs_background": "light"
     },
     "output_type": "display_data"
    }
   ],
   "source": [
    "rcParams['figure.figsize'] = 14, 5\n",
    "\n",
    "# Plotting\n",
    "STARTDATE = TRAIN_PREDS.index[0]\n",
    "\n",
    "plt.plot(trainSet.loc[STARTDATE:].index, trainSet.loc[STARTDATE:][\"Volume\"], color='blue', label='Actual Stock Price')\n",
    "plt.plot(FUT_PREDS.index, FUT_PREDS[\"Volume\"], color='red', label='Predicted Stock Price')\n",
    "plt.plot(TRAIN_PREDS.loc[STARTDATE:].index, TRAIN_PREDS.loc[STARTDATE:][\"Volume\"], color='orange', label='Training predictions')\n",
    "\n",
    "plt.axvline(x = min(FUT_PREDS.index), color='green', linewidth=2, linestyle='--')\n",
    "\n",
    "plt.grid(which='major', color='#cccccc', alpha=0.5)\n",
    "\n",
    "plt.legend(shadow=True)\n",
    "plt.title('Predcitions and Acutal Stock Prices', fontsize=12)\n",
    "plt.xlabel('Timeline', fontsize=10)\n",
    "plt.ylabel('Stock Price Value', fontsize=10)\n",
    "plt.xticks(rotation=45, fontsize=8)\n",
    "plt.show()"
   ]
  },
  {
   "cell_type": "code",
   "execution_count": 55,
   "id": "7f0cc41e",
   "metadata": {},
   "outputs": [
    {
     "data": {
      "text/plain": [
       "<AxesSubplot:>"
      ]
     },
     "execution_count": 55,
     "metadata": {},
     "output_type": "execute_result"
    },
    {
     "data": {
      "image/png": "[encoded data removed]",
      "text/plain": [
       "<Figure size 1008x360 with 1 Axes>"
      ]
     },
     "metadata": {
      "needs_background": "light"
     },
     "output_type": "display_data"
    }
   ],
   "source": [
    "FUT_PREDS.plot()"
   ]
  },
  {
   "cell_type": "code",
   "execution_count": 56,
   "id": "ce4d8dce",
   "metadata": {},
   "outputs": [],
   "source": [
    "m = keras.models.load_model(\"model1.h5\")"
   ]
  },
  {
   "cell_type": "code",
   "execution_count": 57,
   "id": "44774d45",
   "metadata": {},
   "outputs": [],
   "source": [
    "futurePreds = m.predict(Xtrain[-nFut:])"
   ]
  },
  {
   "cell_type": "code",
   "execution_count": 58,
   "id": "380d31fe",
   "metadata": {},
   "outputs": [],
   "source": [
    "fp = pred_sc.inverse_transform(futurePreds)"
   ]
  },
  {
   "cell_type": "code",
   "execution_count": 62,
   "id": "50053c8c",
   "metadata": {},
   "outputs": [],
   "source": [
    "FS = pd.DataFrame(y_predFuture, columns=[\"Volume\"]).set_index(pd.Series(futureDatesList))"
   ]
  },
  {
   "cell_type": "code",
   "execution_count": 63,
   "id": "c9845829",
   "metadata": {},
   "outputs": [
    {
     "data": {
      "text/plain": [
       "<AxesSubplot:>"
      ]
     },
     "execution_count": 63,
     "metadata": {},
     "output_type": "execute_result"
    },
    {
     "data": {
      "image/png": "[encoded data removed]",
      "text/plain": [
       "<Figure size 1008x360 with 1 Axes>"
      ]
     },
     "metadata": {
      "needs_background": "light"
     },
     "output_type": "display_data"
    }
   ],
   "source": [
    "FS.plot()"
   ]
  },
  {
   "cell_type": "code",
   "execution_count": null,
   "id": "80dee9cf",
   "metadata": {},
   "outputs": [],
   "source": []
  }
 ],
 "metadata": {
  "kernelspec": {
   "display_name": "Python 3 (ipykernel)",
   "language": "python",
   "name": "python3"
  },
  "language_info": {
   "codemirror_mode": {
    "name": "ipython",
    "version": 3
   },
   "file_extension": ".py",
   "mimetype": "text/x-python",
   "name": "python",
   "nbconvert_exporter": "python",
   "pygments_lexer": "ipython3",
   "version": "3.8.10"
  }
 },
 "nbformat": 4,
 "nbformat_minor": 5
}
