{
 "cells": [
  {
   "cell_type": "markdown",
   "id": "8cc14df3",
   "metadata": {},
   "source": [
    "# IMPORTING LIBRARIES"
   ]
  },
  {
   "cell_type": "code",
   "execution_count": 1,
   "id": "437bb4de",
   "metadata": {},
   "outputs": [],
   "source": [
    "import numpy as np\n",
    "import pandas as pd\n",
    "import seaborn as sns\n",
    "import matplotlib.pyplot as plt"
   ]
  },
  {
   "cell_type": "code",
   "execution_count": 2,
   "id": "b1cd9851",
   "metadata": {},
   "outputs": [],
   "source": [
    "%matplotlib inline"
   ]
  },
  {
   "cell_type": "markdown",
   "id": "7cc8d478",
   "metadata": {},
   "source": [
    "# IMPORTING DATASET "
   ]
  },
  {
   "cell_type": "code",
   "execution_count": 3,
   "id": "c1e93cc0",
   "metadata": {},
   "outputs": [],
   "source": [
    "stock = pd.read_csv(\"meb.csv\")"
   ]
  },
  {
   "cell_type": "code",
   "execution_count": 4,
   "id": "f683ff62",
   "metadata": {},
   "outputs": [
    {
     "data": {
      "text/html": [
       "<div>\n",
       "<style scoped>\n",
       "    .dataframe tbody tr th:only-of-type {\n",
       "        vertical-align: middle;\n",
       "    }\n",
       "\n",
       "    .dataframe tbody tr th {\n",
       "        vertical-align: top;\n",
       "    }\n",
       "\n",
       "    .dataframe thead th {\n",
       "        text-align: right;\n",
       "    }\n",
       "</style>\n",
       "<table border=\"1\" class=\"dataframe\">\n",
       "  <thead>\n",
       "    <tr style=\"text-align: right;\">\n",
       "      <th></th>\n",
       "      <th>Date</th>\n",
       "      <th>Open</th>\n",
       "      <th>High</th>\n",
       "      <th>Low</th>\n",
       "      <th>Close</th>\n",
       "      <th>Volume</th>\n",
       "    </tr>\n",
       "  </thead>\n",
       "  <tbody>\n",
       "    <tr>\n",
       "      <th>0</th>\n",
       "      <td>2018-01-01</td>\n",
       "      <td>67.0</td>\n",
       "      <td>67.69</td>\n",
       "      <td>67.0</td>\n",
       "      <td>67.20</td>\n",
       "      <td>1051500</td>\n",
       "    </tr>\n",
       "    <tr>\n",
       "      <th>1</th>\n",
       "      <td>2018-01-02</td>\n",
       "      <td>67.0</td>\n",
       "      <td>70.56</td>\n",
       "      <td>67.0</td>\n",
       "      <td>70.56</td>\n",
       "      <td>51500</td>\n",
       "    </tr>\n",
       "  </tbody>\n",
       "</table>\n",
       "</div>"
      ],
      "text/plain": [
       "         Date  Open   High   Low  Close   Volume\n",
       "0  2018-01-01  67.0  67.69  67.0  67.20  1051500\n",
       "1  2018-01-02  67.0  70.56  67.0  70.56    51500"
      ]
     },
     "execution_count": 4,
     "metadata": {},
     "output_type": "execute_result"
    }
   ],
   "source": [
    "stock.head(2)"
   ]
  },
  {
   "cell_type": "markdown",
   "id": "880d32b6",
   "metadata": {},
   "source": [
    "## extracting out dates for later use[visualization and forecast purpose]"
   ]
  },
  {
   "cell_type": "code",
   "execution_count": 5,
   "id": "4c254683",
   "metadata": {},
   "outputs": [],
   "source": [
    "import datetime as dt"
   ]
  },
  {
   "cell_type": "code",
   "execution_count": 6,
   "id": "58dd28ea",
   "metadata": {},
   "outputs": [],
   "source": [
    "dates = list(stock['Date'])\n",
    "dates = [dt.datetime.strptime(date, '%Y-%m-%d').date() for date in dates]"
   ]
  },
  {
   "cell_type": "code",
   "execution_count": 7,
   "id": "2641f0f7",
   "metadata": {},
   "outputs": [
    {
     "name": "stdout",
     "output_type": "stream",
     "text": [
      "Starting date of record :  2018-01-01\n",
      "Last date of record :  2022-05-18\n",
      "Total days n(records) =  1071\n"
     ]
    }
   ],
   "source": [
    "print(\"Starting date of record : \" , dates[0])\n",
    "print(\"Last date of record : \" , dates[-1])\n",
    "print(\"Total days n(records) = \",len(dates))"
   ]
  },
  {
   "cell_type": "markdown",
   "id": "0ed74872",
   "metadata": {},
   "source": [
    "## creating dataset of chosen features to work ahead with LSTM-model"
   ]
  },
  {
   "cell_type": "code",
   "execution_count": 8,
   "id": "d182488b",
   "metadata": {},
   "outputs": [],
   "source": [
    "features = list(stock)[1:-1]"
   ]
  },
  {
   "cell_type": "code",
   "execution_count": 9,
   "id": "973997bf",
   "metadata": {},
   "outputs": [],
   "source": [
    "data = stock[features]"
   ]
  },
  {
   "cell_type": "code",
   "execution_count": 10,
   "id": "9aecff5e",
   "metadata": {},
   "outputs": [
    {
     "data": {
      "text/html": [
       "<div>\n",
       "<style scoped>\n",
       "    .dataframe tbody tr th:only-of-type {\n",
       "        vertical-align: middle;\n",
       "    }\n",
       "\n",
       "    .dataframe tbody tr th {\n",
       "        vertical-align: top;\n",
       "    }\n",
       "\n",
       "    .dataframe thead th {\n",
       "        text-align: right;\n",
       "    }\n",
       "</style>\n",
       "<table border=\"1\" class=\"dataframe\">\n",
       "  <thead>\n",
       "    <tr style=\"text-align: right;\">\n",
       "      <th></th>\n",
       "      <th>Open</th>\n",
       "      <th>High</th>\n",
       "      <th>Low</th>\n",
       "      <th>Close</th>\n",
       "    </tr>\n",
       "  </thead>\n",
       "  <tbody>\n",
       "    <tr>\n",
       "      <th>0</th>\n",
       "      <td>67.0</td>\n",
       "      <td>67.69</td>\n",
       "      <td>67.0</td>\n",
       "      <td>67.20</td>\n",
       "    </tr>\n",
       "    <tr>\n",
       "      <th>1</th>\n",
       "      <td>67.0</td>\n",
       "      <td>70.56</td>\n",
       "      <td>67.0</td>\n",
       "      <td>70.56</td>\n",
       "    </tr>\n",
       "  </tbody>\n",
       "</table>\n",
       "</div>"
      ],
      "text/plain": [
       "   Open   High   Low  Close\n",
       "0  67.0  67.69  67.0  67.20\n",
       "1  67.0  70.56  67.0  70.56"
      ]
     },
     "execution_count": 10,
     "metadata": {},
     "output_type": "execute_result"
    }
   ],
   "source": [
    "data.head(2)"
   ]
  },
  {
   "cell_type": "code",
   "execution_count": 11,
   "id": "1764be8e",
   "metadata": {},
   "outputs": [
    {
     "name": "stdout",
     "output_type": "stream",
     "text": [
      "The features selected to train the model are :  ['Open' 'High' 'Low' 'Close']\n"
     ]
    }
   ],
   "source": [
    "print(\"The features selected to train the model are : \", data.columns.values)"
   ]
  },
  {
   "cell_type": "markdown",
   "id": "aaddd4cb",
   "metadata": {},
   "source": [
    "# DATA PRE-PROCESSING "
   ]
  },
  {
   "cell_type": "code",
   "execution_count": 12,
   "id": "a899c16a",
   "metadata": {},
   "outputs": [],
   "source": [
    "data = data.astype(float)"
   ]
  },
  {
   "cell_type": "code",
   "execution_count": 13,
   "id": "03b15aad",
   "metadata": {},
   "outputs": [
    {
     "data": {
      "text/html": [
       "<div>\n",
       "<style scoped>\n",
       "    .dataframe tbody tr th:only-of-type {\n",
       "        vertical-align: middle;\n",
       "    }\n",
       "\n",
       "    .dataframe tbody tr th {\n",
       "        vertical-align: top;\n",
       "    }\n",
       "\n",
       "    .dataframe thead th {\n",
       "        text-align: right;\n",
       "    }\n",
       "</style>\n",
       "<table border=\"1\" class=\"dataframe\">\n",
       "  <thead>\n",
       "    <tr style=\"text-align: right;\">\n",
       "      <th></th>\n",
       "      <th>Open</th>\n",
       "      <th>High</th>\n",
       "      <th>Low</th>\n",
       "      <th>Close</th>\n",
       "    </tr>\n",
       "  </thead>\n",
       "  <tbody>\n",
       "    <tr>\n",
       "      <th>0</th>\n",
       "      <td>67.0</td>\n",
       "      <td>67.69</td>\n",
       "      <td>67.0</td>\n",
       "      <td>67.20</td>\n",
       "    </tr>\n",
       "    <tr>\n",
       "      <th>1</th>\n",
       "      <td>67.0</td>\n",
       "      <td>70.56</td>\n",
       "      <td>67.0</td>\n",
       "      <td>70.56</td>\n",
       "    </tr>\n",
       "  </tbody>\n",
       "</table>\n",
       "</div>"
      ],
      "text/plain": [
       "   Open   High   Low  Close\n",
       "0  67.0  67.69  67.0  67.20\n",
       "1  67.0  70.56  67.0  70.56"
      ]
     },
     "execution_count": 13,
     "metadata": {},
     "output_type": "execute_result"
    }
   ],
   "source": [
    "data.head(2)"
   ]
  },
  {
   "cell_type": "code",
   "execution_count": 14,
   "id": "00009c25",
   "metadata": {},
   "outputs": [],
   "source": [
    "dataset = data.values"
   ]
  },
  {
   "cell_type": "code",
   "execution_count": 15,
   "id": "a4272072",
   "metadata": {},
   "outputs": [
    {
     "data": {
      "text/plain": [
       "(1071, 4)"
      ]
     },
     "execution_count": 15,
     "metadata": {},
     "output_type": "execute_result"
    }
   ],
   "source": [
    "dataset.shape"
   ]
  },
  {
   "cell_type": "code",
   "execution_count": 16,
   "id": "694cb858",
   "metadata": {},
   "outputs": [
    {
     "data": {
      "text/plain": [
       "array([67.  , 67.69, 67.  , 67.2 ])"
      ]
     },
     "execution_count": 16,
     "metadata": {},
     "output_type": "execute_result"
    }
   ],
   "source": [
    "dataset[0]"
   ]
  },
  {
   "cell_type": "code",
   "execution_count": 17,
   "id": "0a6710c3",
   "metadata": {},
   "outputs": [
    {
     "data": {
      "text/plain": [
       "array([[ 67. ],\n",
       "       [ 67. ],\n",
       "       [ 71.5],\n",
       "       ...,\n",
       "       [134. ],\n",
       "       [130.5],\n",
       "       [128. ]])"
      ]
     },
     "execution_count": 17,
     "metadata": {},
     "output_type": "execute_result"
    }
   ],
   "source": [
    "dataset[:,0:1]"
   ]
  },
  {
   "cell_type": "markdown",
   "id": "fe60d5c2",
   "metadata": {},
   "source": [
    "# FEATURE SCALING"
   ]
  },
  {
   "cell_type": "code",
   "execution_count": 18,
   "id": "339fb55a",
   "metadata": {},
   "outputs": [
    {
     "data": {
      "text/plain": [
       "array([[-1.34376269],\n",
       "       [-1.34376269],\n",
       "       [-1.15187036],\n",
       "       ...,\n",
       "       [ 1.51330082],\n",
       "       [ 1.36405123],\n",
       "       [ 1.25744439]])"
      ]
     },
     "execution_count": 18,
     "metadata": {},
     "output_type": "execute_result"
    }
   ],
   "source": [
    "from sklearn.preprocessing import StandardScaler\n",
    "\n",
    "sc = StandardScaler()\n",
    "sc_dataset = sc.fit_transform(dataset)\n",
    "\n",
    "pred_sc = StandardScaler()\n",
    "pred_sc.fit_transform(dataset[:, 0:1 ]) #for output values"
   ]
  },
  {
   "cell_type": "markdown",
   "id": "7ef51e11",
   "metadata": {},
   "source": [
    "# INPUT-OUTPUT SPLIT FOR TIME SERIES ANALYSIS "
   ]
  },
  {
   "cell_type": "code",
   "execution_count": 19,
   "id": "a4a8b5ed",
   "metadata": {},
   "outputs": [],
   "source": [
    "Xtrain = [] #trend to be analyzed\n",
    "ytrain = [] #output for the given-trend"
   ]
  },
  {
   "cell_type": "code",
   "execution_count": 20,
   "id": "03f84b02",
   "metadata": {},
   "outputs": [],
   "source": [
    "nFuture = 1 #60 #7 #30   # Number of days we want top predict into the future\n",
    "nPast = 14 #90 #30 #100     # Number of past days we want to use to predict the future "
   ]
  },
  {
   "cell_type": "code",
   "execution_count": 21,
   "id": "ea621943",
   "metadata": {},
   "outputs": [],
   "source": [
    "rows = data.shape[0]\n",
    "cols = data.shape[1]"
   ]
  },
  {
   "cell_type": "code",
   "execution_count": 22,
   "id": "be36acaf",
   "metadata": {},
   "outputs": [
    {
     "data": {
      "text/plain": [
       "True"
      ]
     },
     "execution_count": 22,
     "metadata": {},
     "output_type": "execute_result"
    }
   ],
   "source": [
    "cols == dataset.shape[1]"
   ]
  },
  {
   "cell_type": "code",
   "execution_count": 23,
   "id": "de564f3e",
   "metadata": {},
   "outputs": [
    {
     "data": {
      "text/plain": [
       "4"
      ]
     },
     "execution_count": 23,
     "metadata": {},
     "output_type": "execute_result"
    }
   ],
   "source": [
    "cols"
   ]
  },
  {
   "cell_type": "code",
   "execution_count": 24,
   "id": "14a8061e",
   "metadata": {},
   "outputs": [],
   "source": [
    "for i in range(nPast ,  rows - nFuture +1):\n",
    "    Xtrain.append(sc_dataset[i - nPast : i , 0:cols])\n",
    "    ytrain.append(sc_dataset[i + nFuture - 1 : i + nFuture , 0])"
   ]
  },
  {
   "cell_type": "code",
   "execution_count": 25,
   "id": "38b131dc",
   "metadata": {},
   "outputs": [],
   "source": [
    "Xtrain = np.array(Xtrain)\n",
    "ytrain = np.array(ytrain)"
   ]
  },
  {
   "cell_type": "code",
   "execution_count": 26,
   "id": "9e413cc0",
   "metadata": {},
   "outputs": [
    {
     "data": {
      "text/plain": [
       "array([[ True,  True,  True,  True]])"
      ]
     },
     "execution_count": 26,
     "metadata": {},
     "output_type": "execute_result"
    }
   ],
   "source": [
    "sc.inverse_transform([Xtrain[0][0]]) == dataset[0]"
   ]
  },
  {
   "cell_type": "code",
   "execution_count": 27,
   "id": "3d3d1ae0",
   "metadata": {},
   "outputs": [
    {
     "data": {
      "text/plain": [
       "array([[77.]])"
      ]
     },
     "execution_count": 27,
     "metadata": {},
     "output_type": "execute_result"
    }
   ],
   "source": [
    "pred_sc.inverse_transform([ytrain[0]])"
   ]
  },
  {
   "cell_type": "code",
   "execution_count": 28,
   "id": "613f1890",
   "metadata": {},
   "outputs": [
    {
     "data": {
      "text/plain": [
       "array([ True])"
      ]
     },
     "execution_count": 28,
     "metadata": {},
     "output_type": "execute_result"
    }
   ],
   "source": [
    "Xtrain[nFuture + nPast - 1][0][0] == ytrain[0]"
   ]
  },
  {
   "cell_type": "markdown",
   "id": "d0315b16",
   "metadata": {},
   "source": [
    "Now the Xtrain contains all of the given dataset , where as ytrain contains value of volumes to be predicted at gievn past and future figures"
   ]
  },
  {
   "cell_type": "markdown",
   "id": "ce1a032e",
   "metadata": {},
   "source": [
    "# MODEL TRAINING "
   ]
  },
  {
   "cell_type": "markdown",
   "id": "60abcb47",
   "metadata": {},
   "source": [
    "## IMPORTING LIBRARIES"
   ]
  },
  {
   "cell_type": "code",
   "execution_count": 29,
   "id": "e09ac19c",
   "metadata": {},
   "outputs": [
    {
     "name": "stderr",
     "output_type": "stream",
     "text": [
      "2022-05-26 03:42:09.449645: W tensorflow/stream_executor/platform/default/dso_loader.cc:64] Could not load dynamic library 'libcudart.so.11.0'; dlerror: libcudart.so.11.0: cannot open shared object file: No such file or directory\n",
      "2022-05-26 03:42:09.449680: I tensorflow/stream_executor/cuda/cudart_stub.cc:29] Ignore above cudart dlerror if you do not have a GPU set up on your machine.\n",
      "/usr/lib/python3/dist-packages/requests/__init__.py:89: RequestsDependencyWarning: urllib3 (1.26.9) or chardet (3.0.4) doesn't match a supported version!\n",
      "  warnings.warn(\"urllib3 ({}) or chardet ({}) doesn't match a supported \"\n"
     ]
    }
   ],
   "source": [
    "from keras.models import Sequential\n",
    "from keras.layers import Dense\n",
    "from keras.layers import LSTM\n",
    "from keras.layers import Dropout\n",
    "from tensorflow.keras import optimizers"
   ]
  },
  {
   "cell_type": "markdown",
   "id": "68390b83",
   "metadata": {},
   "source": [
    "## Training Model"
   ]
  },
  {
   "cell_type": "code",
   "execution_count": 30,
   "id": "897ca2ce",
   "metadata": {},
   "outputs": [],
   "source": [
    "from tensorflow import keras"
   ]
  },
  {
   "cell_type": "code",
   "execution_count": 31,
   "id": "9f5d36f5",
   "metadata": {},
   "outputs": [
    {
     "name": "stderr",
     "output_type": "stream",
     "text": [
      "2022-05-26 03:42:12.554537: W tensorflow/stream_executor/platform/default/dso_loader.cc:64] Could not load dynamic library 'libcuda.so.1'; dlerror: libcuda.so.1: cannot open shared object file: No such file or directory\n",
      "2022-05-26 03:42:12.554572: W tensorflow/stream_executor/cuda/cuda_driver.cc:269] failed call to cuInit: UNKNOWN ERROR (303)\n",
      "2022-05-26 03:42:12.554602: I tensorflow/stream_executor/cuda/cuda_diagnostics.cc:156] kernel driver does not appear to be running on this host (huda): /proc/driver/nvidia/version does not exist\n",
      "2022-05-26 03:42:12.555775: I tensorflow/core/platform/cpu_feature_guard.cc:151] This TensorFlow binary is optimized with oneAPI Deep Neural Network Library (oneDNN) to use the following CPU instructions in performance-critical operations:  AVX2 FMA\n",
      "To enable them in other operations, rebuild TensorFlow with the appropriate compiler flags.\n"
     ]
    }
   ],
   "source": [
    "model = Sequential()\n",
    "\n",
    "#LAYERS\n",
    "model.add(LSTM(units=128, return_sequences=True, input_shape=(Xtrain.shape[1] , Xtrain.shape[2]))) #first layer #nPast , cols\n",
    "model.add(LSTM(units=64 , activation = \"relu\", return_sequences=True , kernel_regularizer=keras.regularizers.l2(0.001) )) #second layer\n",
    "model.add(Dropout(0.5))\n",
    "model.add(LSTM(units=32, activation = \"relu\", return_sequences=True , kernel_regularizer=keras.regularizers.l2(0.001) )) #second layer\n",
    "model.add(Dropout(0.5))\n",
    "model.add(LSTM(units=10,return_sequences=False )) #third layers\n",
    "\n",
    "#DROPOUT\n",
    "model.add(Dropout(0.5))\n",
    "\n",
    "#OUTPUT\n",
    "# model.add(Dense(units=1, activation='tanh')) #output layer\n",
    "model.add(Dense(ytrain.shape[1])) #output layer"
   ]
  },
  {
   "cell_type": "markdown",
   "id": "ba0da52f",
   "metadata": {},
   "source": [
    "## Compling NN "
   ]
  },
  {
   "cell_type": "code",
   "execution_count": 32,
   "id": "661f0c4f",
   "metadata": {},
   "outputs": [],
   "source": [
    "from tensorflow.keras import losses"
   ]
  },
  {
   "cell_type": "code",
   "execution_count": 33,
   "id": "e3c5f352",
   "metadata": {},
   "outputs": [],
   "source": [
    "opmz = optimizers.Adam(learning_rate=0.001)\n",
    "loss = losses.mean_squared_error\n",
    "\n",
    "model.compile(optimizer = opmz , loss = loss)"
   ]
  },
  {
   "cell_type": "markdown",
   "id": "b922afa2",
   "metadata": {},
   "source": [
    "## Fitting dataset to model "
   ]
  },
  {
   "cell_type": "code",
   "execution_count": 34,
   "id": "c1a1e830",
   "metadata": {
    "scrolled": false
   },
   "outputs": [
    {
     "name": "stdout",
     "output_type": "stream",
     "text": [
      "Epoch 1/25\n",
      "8/8 [==============================] - 8s 244ms/step - loss: 0.9319 - val_loss: 0.9881\n",
      "Epoch 2/25\n",
      "8/8 [==============================] - 1s 68ms/step - loss: 0.5716 - val_loss: 0.3743\n",
      "Epoch 3/25\n",
      "8/8 [==============================] - 1s 67ms/step - loss: 0.4630 - val_loss: 0.2496\n",
      "Epoch 4/25\n",
      "8/8 [==============================] - 1s 66ms/step - loss: 0.4392 - val_loss: 0.3151\n",
      "Epoch 5/25\n",
      "8/8 [==============================] - 1s 74ms/step - loss: 0.3878 - val_loss: 0.2164\n",
      "Epoch 6/25\n",
      "8/8 [==============================] - 1s 80ms/step - loss: 0.3704 - val_loss: 0.2165\n",
      "Epoch 7/25\n",
      "8/8 [==============================] - 1s 68ms/step - loss: 0.3293 - val_loss: 0.1939\n",
      "Epoch 8/25\n",
      "8/8 [==============================] - 1s 66ms/step - loss: 0.3278 - val_loss: 0.2058\n",
      "Epoch 9/25\n",
      "8/8 [==============================] - 1s 68ms/step - loss: 0.2869 - val_loss: 0.1799\n",
      "Epoch 10/25\n",
      "8/8 [==============================] - 1s 71ms/step - loss: 0.2750 - val_loss: 0.1541\n",
      "Epoch 11/25\n",
      "8/8 [==============================] - 1s 68ms/step - loss: 0.2875 - val_loss: 0.1474\n",
      "Epoch 12/25\n",
      "8/8 [==============================] - 1s 94ms/step - loss: 0.2648 - val_loss: 0.1504\n",
      "Epoch 13/25\n",
      "8/8 [==============================] - 1s 87ms/step - loss: 0.2449 - val_loss: 0.1649\n",
      "Epoch 14/25\n",
      "8/8 [==============================] - 1s 102ms/step - loss: 0.2573 - val_loss: 0.1390\n",
      "Epoch 15/25\n",
      "8/8 [==============================] - 1s 91ms/step - loss: 0.2309 - val_loss: 0.1271\n",
      "Epoch 16/25\n",
      "8/8 [==============================] - 1s 87ms/step - loss: 0.2185 - val_loss: 0.1270\n",
      "Epoch 17/25\n",
      "8/8 [==============================] - 1s 79ms/step - loss: 0.2379 - val_loss: 0.1374\n",
      "Epoch 18/25\n",
      "8/8 [==============================] - 1s 75ms/step - loss: 0.2232 - val_loss: 0.1310\n",
      "Epoch 19/25\n",
      "8/8 [==============================] - 1s 83ms/step - loss: 0.2161 - val_loss: 0.1076\n",
      "Epoch 20/25\n",
      "8/8 [==============================] - 1s 67ms/step - loss: 0.1967 - val_loss: 0.1047\n",
      "Epoch 21/25\n",
      "8/8 [==============================] - 1s 66ms/step - loss: 0.2004 - val_loss: 0.0979\n",
      "Epoch 22/25\n",
      "8/8 [==============================] - 1s 68ms/step - loss: 0.1942 - val_loss: 0.1054\n",
      "Epoch 23/25\n",
      "8/8 [==============================] - 1s 71ms/step - loss: 0.1919 - val_loss: 0.0965\n",
      "Epoch 24/25\n",
      "8/8 [==============================] - 1s 79ms/step - loss: 0.1987 - val_loss: 0.0901\n",
      "Epoch 25/25\n",
      "8/8 [==============================] - 1s 78ms/step - loss: 0.1717 - val_loss: 0.0884\n"
     ]
    }
   ],
   "source": [
    "history = model.fit(Xtrain, ytrain, epochs=25 , batch_size=128, validation_split=0.1) #100e #32b#validation_split=0.2"
   ]
  },
  {
   "cell_type": "markdown",
   "id": "1d5802b5",
   "metadata": {},
   "source": [
    "# loss plot"
   ]
  },
  {
   "cell_type": "code",
   "execution_count": 35,
   "id": "36dc6c70",
   "metadata": {},
   "outputs": [
    {
     "data": {
      "text/plain": [
       "<matplotlib.legend.Legend at 0x7fcb87fefe20>"
      ]
     },
     "execution_count": 35,
     "metadata": {},
     "output_type": "execute_result"
    },
    {
     "data": {
      "image/png": "[encoded data removed]",
      "text/plain": [
       "<Figure size 432x288 with 1 Axes>"
      ]
     },
     "metadata": {
      "needs_background": "light"
     },
     "output_type": "display_data"
    }
   ],
   "source": [
    "train_loss = history.history[\"loss\"]\n",
    "validation_loss = history.history[\"val_loss\"]\n",
    "plt.plot(train_loss , label = \"Training Loss\")\n",
    "plt.plot(validation_loss , label = \"Validation Loss\")\n",
    "plt.xlabel(\"Epoch\")\n",
    "plt.ylabel(\"Error\")\n",
    "plt.legend()"
   ]
  },
  {
   "cell_type": "code",
   "execution_count": 36,
   "id": "b2fedcc7",
   "metadata": {},
   "outputs": [
    {
     "name": "stdout",
     "output_type": "stream",
     "text": [
      "34/34 [==============================] - 0s 11ms/step - loss: 0.0919\n"
     ]
    },
    {
     "data": {
      "text/plain": [
       "0.09193868190050125"
      ]
     },
     "execution_count": 36,
     "metadata": {},
     "output_type": "execute_result"
    }
   ],
   "source": [
    "model.evaluate(Xtrain,ytrain)"
   ]
  },
  {
   "cell_type": "code",
   "execution_count": 37,
   "id": "21fc943d",
   "metadata": {},
   "outputs": [],
   "source": [
    "# np.mean(history.history[\"accuracy\"])"
   ]
  },
  {
   "cell_type": "code",
   "execution_count": 38,
   "id": "cb438c51",
   "metadata": {},
   "outputs": [
    {
     "data": {
      "text/plain": [
       "69.12977236509323"
      ]
     },
     "execution_count": 38,
     "metadata": {},
     "output_type": "execute_result"
    }
   ],
   "source": [
    "(1 - np.mean(history.history[\"loss\"]))*100"
   ]
  },
  {
   "cell_type": "markdown",
   "id": "df40299b",
   "metadata": {},
   "source": [
    "## accuracy plot"
   ]
  },
  {
   "cell_type": "markdown",
   "id": "aa1b7966",
   "metadata": {},
   "source": [
    "# FUTURE FORECAST: "
   ]
  },
  {
   "cell_type": "markdown",
   "id": "ee756ff2",
   "metadata": {},
   "source": [
    "### GENERATING DATES SEQUENCE"
   ]
  },
  {
   "cell_type": "code",
   "execution_count": 39,
   "id": "0a9b34d1",
   "metadata": {},
   "outputs": [],
   "source": [
    "nFut = 90"
   ]
  },
  {
   "cell_type": "code",
   "execution_count": 40,
   "id": "ce2b1a59",
   "metadata": {},
   "outputs": [],
   "source": [
    "futureDates = pd.date_range(dates[-1], periods=nFut, freq='1d').tolist()"
   ]
  },
  {
   "cell_type": "code",
   "execution_count": 41,
   "id": "5dd76a69",
   "metadata": {},
   "outputs": [],
   "source": [
    "futureDatesList = []\n",
    "for i in futureDates:\n",
    "    futureDatesList.append(i.date())"
   ]
  },
  {
   "cell_type": "code",
   "execution_count": 42,
   "id": "36406be5",
   "metadata": {},
   "outputs": [
    {
     "data": {
      "text/plain": [
       "datetime.date(2022, 8, 15)"
      ]
     },
     "execution_count": 42,
     "metadata": {},
     "output_type": "execute_result"
    }
   ],
   "source": [
    "futureDatesList[-1]"
   ]
  },
  {
   "cell_type": "markdown",
   "id": "6c4047ff",
   "metadata": {},
   "source": [
    "### MODEL PREDICTIONS"
   ]
  },
  {
   "cell_type": "code",
   "execution_count": 43,
   "id": "12d236dd",
   "metadata": {},
   "outputs": [],
   "source": [
    "futurePreds = model.predict(Xtrain[-nFut:])\n",
    "trainPreds = model.predict(Xtrain[nPast:])"
   ]
  },
  {
   "cell_type": "markdown",
   "id": "3be24755",
   "metadata": {},
   "source": [
    "### INVERSE SCALING"
   ]
  },
  {
   "cell_type": "code",
   "execution_count": 44,
   "id": "6c054e4c",
   "metadata": {},
   "outputs": [],
   "source": [
    "y_predFuture = pred_sc.inverse_transform(futurePreds)\n",
    "y_predTrain = pred_sc.inverse_transform(trainPreds)"
   ]
  },
  {
   "cell_type": "code",
   "execution_count": 45,
   "id": "94b00308",
   "metadata": {},
   "outputs": [],
   "source": [
    "def to_Timestamp(x):\n",
    "    return dt.datetime.strptime(x.strftime('%Y%m%d'), '%Y%m%d')"
   ]
  },
  {
   "cell_type": "code",
   "execution_count": 46,
   "id": "e42e92e8",
   "metadata": {},
   "outputs": [],
   "source": [
    "FUT_PREDS = pd.DataFrame(y_predFuture, columns=[\"Open\"]).set_index(pd.Series(futureDatesList))\n",
    "TRAIN_PREDS = pd.DataFrame(y_predTrain, columns=[\"Open\"]).set_index(pd.Series(dates[2 * nPast + nFuture - 1:]))"
   ]
  },
  {
   "cell_type": "code",
   "execution_count": 47,
   "id": "f9cf2c34",
   "metadata": {},
   "outputs": [],
   "source": [
    "TRAIN_PREDS.index = TRAIN_PREDS.index.to_series().apply(to_Timestamp)"
   ]
  },
  {
   "cell_type": "code",
   "execution_count": 48,
   "id": "42a88c5d",
   "metadata": {},
   "outputs": [
    {
     "data": {
      "text/html": [
       "<div>\n",
       "<style scoped>\n",
       "    .dataframe tbody tr th:only-of-type {\n",
       "        vertical-align: middle;\n",
       "    }\n",
       "\n",
       "    .dataframe tbody tr th {\n",
       "        vertical-align: top;\n",
       "    }\n",
       "\n",
       "    .dataframe thead th {\n",
       "        text-align: right;\n",
       "    }\n",
       "</style>\n",
       "<table border=\"1\" class=\"dataframe\">\n",
       "  <thead>\n",
       "    <tr style=\"text-align: right;\">\n",
       "      <th></th>\n",
       "      <th>Open</th>\n",
       "    </tr>\n",
       "  </thead>\n",
       "  <tbody>\n",
       "    <tr>\n",
       "      <th>2018-02-13</th>\n",
       "      <td>77.688416</td>\n",
       "    </tr>\n",
       "    <tr>\n",
       "      <th>2018-02-14</th>\n",
       "      <td>77.652870</td>\n",
       "    </tr>\n",
       "  </tbody>\n",
       "</table>\n",
       "</div>"
      ],
      "text/plain": [
       "                 Open\n",
       "2018-02-13  77.688416\n",
       "2018-02-14  77.652870"
      ]
     },
     "execution_count": 48,
     "metadata": {},
     "output_type": "execute_result"
    }
   ],
   "source": [
    "TRAIN_PREDS.head(2)"
   ]
  },
  {
   "cell_type": "markdown",
   "id": "4cde0c6d",
   "metadata": {},
   "source": [
    "### FOR VISUALIZATION PURPOSE: "
   ]
  },
  {
   "cell_type": "code",
   "execution_count": 49,
   "id": "8816f445",
   "metadata": {},
   "outputs": [],
   "source": [
    "trainSet = pd.DataFrame(data, columns=features)\n",
    "trainSet.index = dates\n",
    "trainSet.index = pd.to_datetime(trainSet.index)"
   ]
  },
  {
   "cell_type": "code",
   "execution_count": 50,
   "id": "6e514221",
   "metadata": {},
   "outputs": [
    {
     "data": {
      "text/html": [
       "<div>\n",
       "<style scoped>\n",
       "    .dataframe tbody tr th:only-of-type {\n",
       "        vertical-align: middle;\n",
       "    }\n",
       "\n",
       "    .dataframe tbody tr th {\n",
       "        vertical-align: top;\n",
       "    }\n",
       "\n",
       "    .dataframe thead th {\n",
       "        text-align: right;\n",
       "    }\n",
       "</style>\n",
       "<table border=\"1\" class=\"dataframe\">\n",
       "  <thead>\n",
       "    <tr style=\"text-align: right;\">\n",
       "      <th></th>\n",
       "      <th>Open</th>\n",
       "      <th>High</th>\n",
       "      <th>Low</th>\n",
       "      <th>Close</th>\n",
       "    </tr>\n",
       "  </thead>\n",
       "  <tbody>\n",
       "    <tr>\n",
       "      <th>2018-01-01</th>\n",
       "      <td>67.0</td>\n",
       "      <td>67.69</td>\n",
       "      <td>67.0</td>\n",
       "      <td>67.20</td>\n",
       "    </tr>\n",
       "    <tr>\n",
       "      <th>2018-01-02</th>\n",
       "      <td>67.0</td>\n",
       "      <td>70.56</td>\n",
       "      <td>67.0</td>\n",
       "      <td>70.56</td>\n",
       "    </tr>\n",
       "  </tbody>\n",
       "</table>\n",
       "</div>"
      ],
      "text/plain": [
       "            Open   High   Low  Close\n",
       "2018-01-01  67.0  67.69  67.0  67.20\n",
       "2018-01-02  67.0  70.56  67.0  70.56"
      ]
     },
     "execution_count": 50,
     "metadata": {},
     "output_type": "execute_result"
    }
   ],
   "source": [
    "trainSet.head(2)"
   ]
  },
  {
   "cell_type": "code",
   "execution_count": 51,
   "id": "f84ae5d7",
   "metadata": {},
   "outputs": [
    {
     "ename": "KeyError",
     "evalue": "0",
     "output_type": "error",
     "traceback": [
      "\u001b[0;31m---------------------------------------------------------------------------\u001b[0m",
      "\u001b[0;31mKeyError\u001b[0m                                  Traceback (most recent call last)",
      "File \u001b[0;32m~/.local/lib/python3.8/site-packages/pandas/core/indexes/base.py:3621\u001b[0m, in \u001b[0;36mIndex.get_loc\u001b[0;34m(self, key, method, tolerance)\u001b[0m\n\u001b[1;32m   3620\u001b[0m \u001b[38;5;28;01mtry\u001b[39;00m:\n\u001b[0;32m-> 3621\u001b[0m     \u001b[38;5;28;01mreturn\u001b[39;00m \u001b[38;5;28;43mself\u001b[39;49m\u001b[38;5;241;43m.\u001b[39;49m\u001b[43m_engine\u001b[49m\u001b[38;5;241;43m.\u001b[39;49m\u001b[43mget_loc\u001b[49m\u001b[43m(\u001b[49m\u001b[43mcasted_key\u001b[49m\u001b[43m)\u001b[49m\n\u001b[1;32m   3622\u001b[0m \u001b[38;5;28;01mexcept\u001b[39;00m \u001b[38;5;167;01mKeyError\u001b[39;00m \u001b[38;5;28;01mas\u001b[39;00m err:\n",
      "File \u001b[0;32m~/.local/lib/python3.8/site-packages/pandas/_libs/index.pyx:136\u001b[0m, in \u001b[0;36mpandas._libs.index.IndexEngine.get_loc\u001b[0;34m()\u001b[0m\n",
      "File \u001b[0;32m~/.local/lib/python3.8/site-packages/pandas/_libs/index.pyx:163\u001b[0m, in \u001b[0;36mpandas._libs.index.IndexEngine.get_loc\u001b[0;34m()\u001b[0m\n",
      "File \u001b[0;32mpandas/_libs/hashtable_class_helper.pxi:5198\u001b[0m, in \u001b[0;36mpandas._libs.hashtable.PyObjectHashTable.get_item\u001b[0;34m()\u001b[0m\n",
      "File \u001b[0;32mpandas/_libs/hashtable_class_helper.pxi:5206\u001b[0m, in \u001b[0;36mpandas._libs.hashtable.PyObjectHashTable.get_item\u001b[0;34m()\u001b[0m\n",
      "\u001b[0;31mKeyError\u001b[0m: 0",
      "\nThe above exception was the direct cause of the following exception:\n",
      "\u001b[0;31mKeyError\u001b[0m                                  Traceback (most recent call last)",
      "Input \u001b[0;32mIn [51]\u001b[0m, in \u001b[0;36m<module>\u001b[0;34m\u001b[0m\n\u001b[0;32m----> 1\u001b[0m \u001b[43mTRAIN_PREDS\u001b[49m\u001b[43m[\u001b[49m\u001b[38;5;241;43m0\u001b[39;49m\u001b[43m]\u001b[49m\n",
      "File \u001b[0;32m~/.local/lib/python3.8/site-packages/pandas/core/frame.py:3506\u001b[0m, in \u001b[0;36mDataFrame.__getitem__\u001b[0;34m(self, key)\u001b[0m\n\u001b[1;32m   3504\u001b[0m \u001b[38;5;28;01mif\u001b[39;00m \u001b[38;5;28mself\u001b[39m\u001b[38;5;241m.\u001b[39mcolumns\u001b[38;5;241m.\u001b[39mnlevels \u001b[38;5;241m>\u001b[39m \u001b[38;5;241m1\u001b[39m:\n\u001b[1;32m   3505\u001b[0m     \u001b[38;5;28;01mreturn\u001b[39;00m \u001b[38;5;28mself\u001b[39m\u001b[38;5;241m.\u001b[39m_getitem_multilevel(key)\n\u001b[0;32m-> 3506\u001b[0m indexer \u001b[38;5;241m=\u001b[39m \u001b[38;5;28;43mself\u001b[39;49m\u001b[38;5;241;43m.\u001b[39;49m\u001b[43mcolumns\u001b[49m\u001b[38;5;241;43m.\u001b[39;49m\u001b[43mget_loc\u001b[49m\u001b[43m(\u001b[49m\u001b[43mkey\u001b[49m\u001b[43m)\u001b[49m\n\u001b[1;32m   3507\u001b[0m \u001b[38;5;28;01mif\u001b[39;00m is_integer(indexer):\n\u001b[1;32m   3508\u001b[0m     indexer \u001b[38;5;241m=\u001b[39m [indexer]\n",
      "File \u001b[0;32m~/.local/lib/python3.8/site-packages/pandas/core/indexes/base.py:3623\u001b[0m, in \u001b[0;36mIndex.get_loc\u001b[0;34m(self, key, method, tolerance)\u001b[0m\n\u001b[1;32m   3621\u001b[0m     \u001b[38;5;28;01mreturn\u001b[39;00m \u001b[38;5;28mself\u001b[39m\u001b[38;5;241m.\u001b[39m_engine\u001b[38;5;241m.\u001b[39mget_loc(casted_key)\n\u001b[1;32m   3622\u001b[0m \u001b[38;5;28;01mexcept\u001b[39;00m \u001b[38;5;167;01mKeyError\u001b[39;00m \u001b[38;5;28;01mas\u001b[39;00m err:\n\u001b[0;32m-> 3623\u001b[0m     \u001b[38;5;28;01mraise\u001b[39;00m \u001b[38;5;167;01mKeyError\u001b[39;00m(key) \u001b[38;5;28;01mfrom\u001b[39;00m \u001b[38;5;21;01merr\u001b[39;00m\n\u001b[1;32m   3624\u001b[0m \u001b[38;5;28;01mexcept\u001b[39;00m \u001b[38;5;167;01mTypeError\u001b[39;00m:\n\u001b[1;32m   3625\u001b[0m     \u001b[38;5;66;03m# If we have a listlike key, _check_indexing_error will raise\u001b[39;00m\n\u001b[1;32m   3626\u001b[0m     \u001b[38;5;66;03m#  InvalidIndexError. Otherwise we fall through and re-raise\u001b[39;00m\n\u001b[1;32m   3627\u001b[0m     \u001b[38;5;66;03m#  the TypeError.\u001b[39;00m\n\u001b[1;32m   3628\u001b[0m     \u001b[38;5;28mself\u001b[39m\u001b[38;5;241m.\u001b[39m_check_indexing_error(key)\n",
      "\u001b[0;31mKeyError\u001b[0m: 0"
     ]
    }
   ],
   "source": [
    "TRAIN_PREDS.index[]"
   ]
  },
  {
   "cell_type": "markdown",
   "id": "cdfbf76b",
   "metadata": {},
   "source": [
    "# FORECAST VISUALISATION"
   ]
  },
  {
   "cell_type": "code",
   "execution_count": 208,
   "id": "70baa0b1",
   "metadata": {},
   "outputs": [],
   "source": [
    "from pylab import rcParams"
   ]
  },
  {
   "cell_type": "code",
   "execution_count": 209,
   "id": "9a3c083c",
   "metadata": {},
   "outputs": [
    {
     "data": {
      "image/png": "[encoded data removed]",
      "text/plain": [
       "<Figure size 1008x360 with 1 Axes>"
      ]
     },
     "metadata": {
      "needs_background": "light"
     },
     "output_type": "display_data"
    }
   ],
   "source": [
    "rcParams['figure.figsize'] = 14, 5\n",
    "\n",
    "# Plotting\n",
    "STARTDATE = '2018-11-26' ##TRAIN_PREDS.index[0]\n",
    "\n",
    "plt.plot(trainSet.loc[STARTDATE:].index, trainSet.loc[STARTDATE:][\"Open\"], color='blue', label='Actual Stock Price')\n",
    "plt.plot(FUT_PREDS.index, FUT_PREDS[\"Open\"], color='red', label='Predicted Stock Price')\n",
    "plt.plot(TRAIN_PREDS.loc[STARTDATE:].index, TRAIN_PREDS.loc[STARTDATE:][\"Open\"], color='orange', label='Training predictions')\n",
    "\n",
    "plt.axvline(x = min(FUT_PREDS.index), color='green', linewidth=2, linestyle='--')\n",
    "\n",
    "plt.grid(which='major', color='#cccccc', alpha=0.5)\n",
    "\n",
    "plt.legend(shadow=True)\n",
    "plt.title('Predcitions and Acutal Stock Prices', fontsize=12)\n",
    "plt.xlabel('Timeline', fontsize=10)\n",
    "plt.ylabel('Stock Price Value', fontsize=10)\n",
    "plt.xticks(rotation=45, fontsize=8)\n",
    "plt.show()"
   ]
  },
  {
   "cell_type": "code",
   "execution_count": 216,
   "id": "717f841e",
   "metadata": {},
   "outputs": [
    {
     "data": {
      "text/html": [
       "<div>\n",
       "<style scoped>\n",
       "    .dataframe tbody tr th:only-of-type {\n",
       "        vertical-align: middle;\n",
       "    }\n",
       "\n",
       "    .dataframe tbody tr th {\n",
       "        vertical-align: top;\n",
       "    }\n",
       "\n",
       "    .dataframe thead th {\n",
       "        text-align: right;\n",
       "    }\n",
       "</style>\n",
       "<table border=\"1\" class=\"dataframe\">\n",
       "  <thead>\n",
       "    <tr style=\"text-align: right;\">\n",
       "      <th></th>\n",
       "      <th>Open</th>\n",
       "    </tr>\n",
       "  </thead>\n",
       "  <tbody>\n",
       "    <tr>\n",
       "      <th>2022-05-18</th>\n",
       "      <td>134.636337</td>\n",
       "    </tr>\n",
       "    <tr>\n",
       "      <th>2022-05-19</th>\n",
       "      <td>134.365524</td>\n",
       "    </tr>\n",
       "    <tr>\n",
       "      <th>2022-05-20</th>\n",
       "      <td>134.168945</td>\n",
       "    </tr>\n",
       "    <tr>\n",
       "      <th>2022-05-21</th>\n",
       "      <td>134.014465</td>\n",
       "    </tr>\n",
       "    <tr>\n",
       "      <th>2022-05-22</th>\n",
       "      <td>133.951828</td>\n",
       "    </tr>\n",
       "    <tr>\n",
       "      <th>...</th>\n",
       "      <td>...</td>\n",
       "    </tr>\n",
       "    <tr>\n",
       "      <th>2022-08-11</th>\n",
       "      <td>138.117661</td>\n",
       "    </tr>\n",
       "    <tr>\n",
       "      <th>2022-08-12</th>\n",
       "      <td>137.283203</td>\n",
       "    </tr>\n",
       "    <tr>\n",
       "      <th>2022-08-13</th>\n",
       "      <td>136.296371</td>\n",
       "    </tr>\n",
       "    <tr>\n",
       "      <th>2022-08-14</th>\n",
       "      <td>135.245285</td>\n",
       "    </tr>\n",
       "    <tr>\n",
       "      <th>2022-08-15</th>\n",
       "      <td>134.164291</td>\n",
       "    </tr>\n",
       "  </tbody>\n",
       "</table>\n",
       "<p>90 rows × 1 columns</p>\n",
       "</div>"
      ],
      "text/plain": [
       "                  Open\n",
       "2022-05-18  134.636337\n",
       "2022-05-19  134.365524\n",
       "2022-05-20  134.168945\n",
       "2022-05-21  134.014465\n",
       "2022-05-22  133.951828\n",
       "...                ...\n",
       "2022-08-11  138.117661\n",
       "2022-08-12  137.283203\n",
       "2022-08-13  136.296371\n",
       "2022-08-14  135.245285\n",
       "2022-08-15  134.164291\n",
       "\n",
       "[90 rows x 1 columns]"
      ]
     },
     "execution_count": 216,
     "metadata": {},
     "output_type": "execute_result"
    }
   ],
   "source": [
    "FUT_PREDS"
   ]
  },
  {
   "cell_type": "code",
   "execution_count": 217,
   "id": "a8482e40",
   "metadata": {},
   "outputs": [
    {
     "data": {
      "text/html": [
       "<div>\n",
       "<style scoped>\n",
       "    .dataframe tbody tr th:only-of-type {\n",
       "        vertical-align: middle;\n",
       "    }\n",
       "\n",
       "    .dataframe tbody tr th {\n",
       "        vertical-align: top;\n",
       "    }\n",
       "\n",
       "    .dataframe thead th {\n",
       "        text-align: right;\n",
       "    }\n",
       "</style>\n",
       "<table border=\"1\" class=\"dataframe\">\n",
       "  <thead>\n",
       "    <tr style=\"text-align: right;\">\n",
       "      <th></th>\n",
       "      <th>Open</th>\n",
       "    </tr>\n",
       "  </thead>\n",
       "  <tbody>\n",
       "    <tr>\n",
       "      <th>2018-02-13</th>\n",
       "      <td>77.370316</td>\n",
       "    </tr>\n",
       "    <tr>\n",
       "      <th>2018-02-14</th>\n",
       "      <td>77.353073</td>\n",
       "    </tr>\n",
       "    <tr>\n",
       "      <th>2018-02-15</th>\n",
       "      <td>77.313690</td>\n",
       "    </tr>\n",
       "    <tr>\n",
       "      <th>2018-02-16</th>\n",
       "      <td>77.233421</td>\n",
       "    </tr>\n",
       "    <tr>\n",
       "      <th>2018-02-20</th>\n",
       "      <td>77.142601</td>\n",
       "    </tr>\n",
       "    <tr>\n",
       "      <th>...</th>\n",
       "      <td>...</td>\n",
       "    </tr>\n",
       "    <tr>\n",
       "      <th>2022-05-12</th>\n",
       "      <td>138.117661</td>\n",
       "    </tr>\n",
       "    <tr>\n",
       "      <th>2022-05-13</th>\n",
       "      <td>137.283203</td>\n",
       "    </tr>\n",
       "    <tr>\n",
       "      <th>2022-05-16</th>\n",
       "      <td>136.296371</td>\n",
       "    </tr>\n",
       "    <tr>\n",
       "      <th>2022-05-17</th>\n",
       "      <td>135.245285</td>\n",
       "    </tr>\n",
       "    <tr>\n",
       "      <th>2022-05-18</th>\n",
       "      <td>134.164291</td>\n",
       "    </tr>\n",
       "  </tbody>\n",
       "</table>\n",
       "<p>1043 rows × 1 columns</p>\n",
       "</div>"
      ],
      "text/plain": [
       "                  Open\n",
       "2018-02-13   77.370316\n",
       "2018-02-14   77.353073\n",
       "2018-02-15   77.313690\n",
       "2018-02-16   77.233421\n",
       "2018-02-20   77.142601\n",
       "...                ...\n",
       "2022-05-12  138.117661\n",
       "2022-05-13  137.283203\n",
       "2022-05-16  136.296371\n",
       "2022-05-17  135.245285\n",
       "2022-05-18  134.164291\n",
       "\n",
       "[1043 rows x 1 columns]"
      ]
     },
     "execution_count": 217,
     "metadata": {},
     "output_type": "execute_result"
    }
   ],
   "source": [
    "TRAIN_PREDS"
   ]
  },
  {
   "cell_type": "code",
   "execution_count": 266,
   "id": "b8645dc5",
   "metadata": {},
   "outputs": [
    {
     "data": {
      "text/plain": [
       "<AxesSubplot:ylabel='Open'>"
      ]
     },
     "execution_count": 266,
     "metadata": {},
     "output_type": "execute_result"
    },
    {
     "data": {
      "image/png": "[encoded data removed]",
      "text/plain": [
       "<Figure size 1008x360 with 1 Axes>"
      ]
     },
     "metadata": {
      "needs_background": "light"
     },
     "output_type": "display_data"
    }
   ],
   "source": [
    "sns.lineplot(x=days , y=final[\"Open\"])\n",
    "sns.lineplot(x=futureDatesList,y=FUT_PREDS[\"Open\"])"
   ]
  },
  {
   "cell_type": "code",
   "execution_count": 230,
   "id": "e91aadb4",
   "metadata": {},
   "outputs": [
    {
     "data": {
      "text/plain": [
       "Timestamp('2022-03-02 00:00:00')"
      ]
     },
     "execution_count": 230,
     "metadata": {},
     "output_type": "execute_result"
    }
   ],
   "source": [
    "TRAIN_PREDS.index[-50]"
   ]
  },
  {
   "cell_type": "code",
   "execution_count": 264,
   "id": "9a6dd090",
   "metadata": {},
   "outputs": [],
   "source": [
    "final = pd.DataFrame(data.tail(300))"
   ]
  },
  {
   "cell_type": "code",
   "execution_count": 262,
   "id": "9b23e3dc",
   "metadata": {},
   "outputs": [],
   "source": [
    "days = final.index.values"
   ]
  },
  {
   "cell_type": "code",
   "execution_count": 265,
   "id": "2916e1fb",
   "metadata": {},
   "outputs": [
    {
     "data": {
      "text/plain": [
       "<AxesSubplot:ylabel='Open'>"
      ]
     },
     "execution_count": 265,
     "metadata": {},
     "output_type": "execute_result"
    },
    {
     "data": {
      "image/png": "[encoded data removed]",
      "text/plain": [
       "<Figure size 1008x360 with 1 Axes>"
      ]
     },
     "metadata": {
      "needs_background": "light"
     },
     "output_type": "display_data"
    }
   ],
   "source": [
    "sns.lineplot(x=days , y=final[\"Open\"])"
   ]
  },
  {
   "cell_type": "code",
   "execution_count": null,
   "id": "f530ae8e",
   "metadata": {},
   "outputs": [],
   "source": []
  }
 ],
 "metadata": {
  "kernelspec": {
   "display_name": "Python 3 (ipykernel)",
   "language": "python",
   "name": "python3"
  },
  "language_info": {
   "codemirror_mode": {
    "name": "ipython",
    "version": 3
   },
   "file_extension": ".py",
   "mimetype": "text/x-python",
   "name": "python",
   "nbconvert_exporter": "python",
   "pygments_lexer": "ipython3",
   "version": "3.8.10"
  }
 },
 "nbformat": 4,
 "nbformat_minor": 5
}
